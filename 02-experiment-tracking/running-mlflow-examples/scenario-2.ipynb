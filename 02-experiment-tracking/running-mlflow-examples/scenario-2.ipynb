{
 "cells": [
  {
   "cell_type": "markdown",
   "metadata": {},
   "source": [
    "## Scenario 2: no tracking server with SQLite backend store"
   ]
  },
  {
   "cell_type": "code",
   "execution_count": 7,
   "metadata": {},
   "outputs": [],
   "source": [
    "import mlflow\n",
    "\n",
    "\n",
    "mlflow.set_tracking_uri(\"http://127.0.0.1:5000\")"
   ]
  },
  {
   "cell_type": "code",
   "execution_count": 8,
   "metadata": {},
   "outputs": [
    {
     "data": {
      "text/plain": [
       "[<Experiment: artifact_location='artifact/0', experiment_id='0', lifecycle_stage='active', name='Default', tags={}>,\n",
       " <Experiment: artifact_location='./mlruns/1', experiment_id='1', lifecycle_stage='active', name='homework_nyc-taxi-experiment-models', tags={}>,\n",
       " <Experiment: artifact_location='artifact/2', experiment_id='2', lifecycle_stage='active', name='random-forest-hyperopt', tags={}>,\n",
       " <Experiment: artifact_location='artifact/3', experiment_id='3', lifecycle_stage='active', name='random-forest-best-models', tags={}>]"
      ]
     },
     "execution_count": 8,
     "metadata": {},
     "output_type": "execute_result"
    }
   ],
   "source": [
    "mlflow.list_experiments()"
   ]
  },
  {
   "cell_type": "code",
   "execution_count": null,
   "metadata": {},
   "outputs": [],
   "source": [
    "# from sklearn.linear_model import LogisticRegression\n",
    "# from sklearn.datasets import load_iris\n",
    "# from sklearn.metrics import accuracy_score\n",
    "\n",
    "# mlflow.set_experiment(\"my-experiment-1\")\n",
    "\n",
    "# with mlflow.start_run():\n",
    "\n",
    "#     X, y = load_iris(return_X_y=True)\n",
    "\n",
    "#     params = {\"C\": 0.1, \"random_state\": 42}\n",
    "#     mlflow.log_params(params)\n",
    "\n",
    "#     lr = LogisticRegression(**params).fit(X, y)\n",
    "#     y_pred = lr.predict(X)\n",
    "#     mlflow.log_metric(\"accuracy\", accuracy_score(y, y_pred))\n",
    "\n",
    "#     mlflow.sklearn.log_model(lr, artifact_path=\"models\")"
   ]
  },
  {
   "cell_type": "code",
   "execution_count": 9,
   "metadata": {},
   "outputs": [
    {
     "name": "stdout",
     "output_type": "stream",
     "text": [
      "<Experiment: artifact_location='artifact/3', experiment_id='3', lifecycle_stage='active', name='random-forest-best-models', tags={}>\n"
     ]
    }
   ],
   "source": [
    "EXPERIMENT_NAME = \"random-forest-best-models\"\n",
    "experiments = mlflow.get_experiment_by_name(EXPERIMENT_NAME)\n",
    "print(experiments)"
   ]
  },
  {
   "cell_type": "markdown",
   "metadata": {},
   "source": [
    "### Interacting with the model registry"
   ]
  },
  {
   "cell_type": "code",
   "execution_count": 10,
   "metadata": {},
   "outputs": [],
   "source": [
    "from mlflow.tracking import MlflowClient\n",
    "\n",
    "\n",
    "client = MlflowClient()"
   ]
  },
  {
   "cell_type": "code",
   "execution_count": 11,
   "metadata": {},
   "outputs": [
    {
     "data": {
      "text/plain": [
       "[]"
      ]
     },
     "execution_count": 11,
     "metadata": {},
     "output_type": "execute_result"
    }
   ],
   "source": [
    "client.list_registered_models()"
   ]
  },
  {
   "cell_type": "code",
   "execution_count": 36,
   "metadata": {},
   "outputs": [
    {
     "data": {
      "text/plain": [
       "'63f06a50a91f4d7b8ed7587e9dde74c0'"
      ]
     },
     "execution_count": 36,
     "metadata": {},
     "output_type": "execute_result"
    }
   ],
   "source": [
    "client.search_runs(experiment_ids=[3], order_by=['metric.test_rmse ASC'])[0]._info.run_id"
   ]
  },
  {
   "cell_type": "code",
   "execution_count": 33,
   "metadata": {},
   "outputs": [
    {
     "name": "stderr",
     "output_type": "stream",
     "text": [
      "Successfully registered model 'iris-classifier'.\n",
      "2022/05/28 09:37:15 INFO mlflow.tracking._model_registry.client: Waiting up to 300 seconds for model version to finish creation.                     Model name: iris-classifier, version 1\n",
      "Created version '1' of model 'iris-classifier'.\n"
     ]
    },
    {
     "data": {
      "text/plain": [
       "<ModelVersion: creation_timestamp=1653723435365, current_stage='None', description='', last_updated_timestamp=1653723435365, name='iris-classifier', run_id='4fc7363d640546319d5fa37ca6e0e985', run_link='', source='artifact/3/4fc7363d640546319d5fa37ca6e0e985/artifacts/models', status='READY', status_message='', tags={}, user_id='', version='1'>"
      ]
     },
     "execution_count": 33,
     "metadata": {},
     "output_type": "execute_result"
    }
   ],
   "source": [
    "run_id = client.list_run_infos(experiment_id='3')[0].run_id\n",
    "mlflow.register_model(\n",
    "    model_uri=f\"runs:/{run_id}/models\",\n",
    "    name='iris-classifier'\n",
    ")"
   ]
  },
  {
   "cell_type": "code",
   "execution_count": 34,
   "metadata": {},
   "outputs": [
    {
     "data": {
      "text/plain": [
       "<RunInfo: artifact_uri='artifact/3/4fc7363d640546319d5fa37ca6e0e985/artifacts', end_time=1653722816100, experiment_id='3', lifecycle_stage='active', run_id='4fc7363d640546319d5fa37ca6e0e985', run_uuid='4fc7363d640546319d5fa37ca6e0e985', start_time=1653722809048, status='FINISHED', user_id='ankush'>"
      ]
     },
     "execution_count": 34,
     "metadata": {},
     "output_type": "execute_result"
    }
   ],
   "source": [
    "client.list_run_infos(experiment_id='3')[0]"
   ]
  },
  {
   "cell_type": "code",
   "execution_count": null,
   "metadata": {},
   "outputs": [],
   "source": []
  }
 ],
 "metadata": {
  "interpreter": {
   "hash": "d7a3eb6406bd1418f455373bfa2c64fbe5f3b41693394d75b7fa316e40551180"
  },
  "kernelspec": {
   "display_name": "Python 3.9.12 ('venv_mlops': venv)",
   "language": "python",
   "name": "python3"
  },
  "language_info": {
   "codemirror_mode": {
    "name": "ipython",
    "version": 3
   },
   "file_extension": ".py",
   "mimetype": "text/x-python",
   "name": "python",
   "nbconvert_exporter": "python",
   "pygments_lexer": "ipython3",
   "version": "3.9.12"
  },
  "orig_nbformat": 4
 },
 "nbformat": 4,
 "nbformat_minor": 2
}
