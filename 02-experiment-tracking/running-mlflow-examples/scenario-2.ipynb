{
 "cells": [
  {
   "cell_type": "markdown",
   "metadata": {},
   "source": [
    "## Scenario 2: no tracking server with SQLite backend store"
   ]
  },
  {
   "cell_type": "code",
   "execution_count": 7,
   "metadata": {},
   "outputs": [],
   "source": [
    "import mlflow\n",
    "\n",
    "\n",
    "mlflow.set_tracking_uri(\"http://127.0.0.1:5000\")"
   ]
  },
  {
   "cell_type": "code",
   "execution_count": 8,
   "metadata": {},
   "outputs": [
    {
     "data": {
      "text/plain": [
       "[<Experiment: artifact_location='artifact/0', experiment_id='0', lifecycle_stage='active', name='Default', tags={}>,\n",
       " <Experiment: artifact_location='./mlruns/1', experiment_id='1', lifecycle_stage='active', name='homework_nyc-taxi-experiment-models', tags={}>,\n",
       " <Experiment: artifact_location='artifact/2', experiment_id='2', lifecycle_stage='active', name='random-forest-hyperopt', tags={}>,\n",
       " <Experiment: artifact_location='artifact/3', experiment_id='3', lifecycle_stage='active', name='random-forest-best-models', tags={}>]"
      ]
     },
     "execution_count": 8,
     "metadata": {},
     "output_type": "execute_result"
    }
   ],
   "source": [
    "mlflow.list_experiments()"
   ]
  },
  {
   "cell_type": "code",
   "execution_count": null,
   "metadata": {},
   "outputs": [],
   "source": [
    "# from sklearn.linear_model import LogisticRegression\n",
    "# from sklearn.datasets import load_iris\n",
    "# from sklearn.metrics import accuracy_score\n",
    "\n",
    "# mlflow.set_experiment(\"my-experiment-1\")\n",
    "\n",
    "# with mlflow.start_run():\n",
    "\n",
    "#     X, y = load_iris(return_X_y=True)\n",
    "\n",
    "#     params = {\"C\": 0.1, \"random_state\": 42}\n",
    "#     mlflow.log_params(params)\n",
    "\n",
    "#     lr = LogisticRegression(**params).fit(X, y)\n",
    "#     y_pred = lr.predict(X)\n",
    "#     mlflow.log_metric(\"accuracy\", accuracy_score(y, y_pred))\n",
    "\n",
    "#     mlflow.sklearn.log_model(lr, artifact_path=\"models\")"
   ]
  },
  {
   "cell_type": "code",
   "execution_count": 9,
   "metadata": {},
   "outputs": [
    {
     "name": "stdout",
     "output_type": "stream",
     "text": [
      "<Experiment: artifact_location='artifact/3', experiment_id='3', lifecycle_stage='active', name='random-forest-best-models', tags={}>\n"
     ]
    }
   ],
   "source": [
    "EXPERIMENT_NAME = \"random-forest-best-models\"\n",
    "experiments = mlflow.get_experiment_by_name(EXPERIMENT_NAME)\n",
    "print(experiments)"
   ]
  },
  {
   "cell_type": "markdown",
   "metadata": {},
   "source": [
    "### Interacting with the model registry"
   ]
  },
  {
   "cell_type": "code",
   "execution_count": 10,
   "metadata": {},
   "outputs": [],
   "source": [
    "from mlflow.tracking import MlflowClient\n",
    "\n",
    "\n",
    "client = MlflowClient()"
   ]
  },
  {
   "cell_type": "code",
   "execution_count": 11,
   "metadata": {},
   "outputs": [
    {
     "data": {
      "text/plain": [
       "[]"
      ]
     },
     "execution_count": 11,
     "metadata": {},
     "output_type": "execute_result"
    }
   ],
   "source": [
    "client.list_registered_models()"
   ]
  },
  {
   "cell_type": "code",
<<<<<<< HEAD
   "execution_count": 36,
=======
   "execution_count": 16,
   "metadata": {},
   "outputs": [
    {
     "ename": "RestException",
     "evalue": "INVALID_PARAMETER_VALUE: Invalid identifier 'M'. Columns should be specified as 'attribute.<key>', 'metric.<key>', 'tag.<key>', or 'param.'.",
     "output_type": "error",
     "traceback": [
      "\u001b[0;31m---------------------------------------------------------------------------\u001b[0m",
      "\u001b[0;31mRestException\u001b[0m                             Traceback (most recent call last)",
      "\u001b[1;32m/Users/ankush/Documents/personal/constant_learner/mlops/mlops-zoomcamp/02-experiment-tracking/running-mlflow-examples/scenario-2.ipynb Cell 9'\u001b[0m in \u001b[0;36m<cell line: 1>\u001b[0;34m()\u001b[0m\n\u001b[0;32m----> <a href='vscode-notebook-cell:/Users/ankush/Documents/personal/constant_learner/mlops/mlops-zoomcamp/02-experiment-tracking/running-mlflow-examples/scenario-2.ipynb#ch0000010?line=0'>1</a>\u001b[0m client\u001b[39m.\u001b[39;49msearch_runs(experiment_ids\u001b[39m=\u001b[39;49m[\u001b[39m3\u001b[39;49m], order_by\u001b[39m=\u001b[39;49m\u001b[39m'\u001b[39;49m\u001b[39mMetrics.test_rmse ASC\u001b[39;49m\u001b[39m'\u001b[39;49m)\n",
      "File \u001b[0;32m~/Documents/personal/constant_learner/mlops/mlops-zoomcamp/venv_mlops/lib/python3.9/site-packages/mlflow/tracking/client.py:1610\u001b[0m, in \u001b[0;36mMlflowClient.search_runs\u001b[0;34m(self, experiment_ids, filter_string, run_view_type, max_results, order_by, page_token)\u001b[0m\n\u001b[1;32m   <a href='file:///Users/ankush/Documents/personal/constant_learner/mlops/mlops-zoomcamp/venv_mlops/lib/python3.9/site-packages/mlflow/tracking/client.py?line=1521'>1522</a>\u001b[0m \u001b[39mdef\u001b[39;00m \u001b[39msearch_runs\u001b[39m(\n\u001b[1;32m   <a href='file:///Users/ankush/Documents/personal/constant_learner/mlops/mlops-zoomcamp/venv_mlops/lib/python3.9/site-packages/mlflow/tracking/client.py?line=1522'>1523</a>\u001b[0m     \u001b[39mself\u001b[39m,\n\u001b[1;32m   <a href='file:///Users/ankush/Documents/personal/constant_learner/mlops/mlops-zoomcamp/venv_mlops/lib/python3.9/site-packages/mlflow/tracking/client.py?line=1523'>1524</a>\u001b[0m     experiment_ids: List[\u001b[39mstr\u001b[39m],\n\u001b[0;32m   (...)\u001b[0m\n\u001b[1;32m   <a href='file:///Users/ankush/Documents/personal/constant_learner/mlops/mlops-zoomcamp/venv_mlops/lib/python3.9/site-packages/mlflow/tracking/client.py?line=1528'>1529</a>\u001b[0m     page_token: Optional[\u001b[39mstr\u001b[39m] \u001b[39m=\u001b[39m \u001b[39mNone\u001b[39;00m,\n\u001b[1;32m   <a href='file:///Users/ankush/Documents/personal/constant_learner/mlops/mlops-zoomcamp/venv_mlops/lib/python3.9/site-packages/mlflow/tracking/client.py?line=1529'>1530</a>\u001b[0m ) \u001b[39m-\u001b[39m\u001b[39m>\u001b[39m PagedList[Run]:\n\u001b[1;32m   <a href='file:///Users/ankush/Documents/personal/constant_learner/mlops/mlops-zoomcamp/venv_mlops/lib/python3.9/site-packages/mlflow/tracking/client.py?line=1530'>1531</a>\u001b[0m     \u001b[39m\"\"\"\u001b[39;00m\n\u001b[1;32m   <a href='file:///Users/ankush/Documents/personal/constant_learner/mlops/mlops-zoomcamp/venv_mlops/lib/python3.9/site-packages/mlflow/tracking/client.py?line=1531'>1532</a>\u001b[0m \u001b[39m    Search experiments that fit the search criteria.\u001b[39;00m\n\u001b[1;32m   <a href='file:///Users/ankush/Documents/personal/constant_learner/mlops/mlops-zoomcamp/venv_mlops/lib/python3.9/site-packages/mlflow/tracking/client.py?line=1532'>1533</a>\u001b[0m \n\u001b[0;32m   (...)\u001b[0m\n\u001b[1;32m   <a href='file:///Users/ankush/Documents/personal/constant_learner/mlops/mlops-zoomcamp/venv_mlops/lib/python3.9/site-packages/mlflow/tracking/client.py?line=1607'>1608</a>\u001b[0m \u001b[39m        tags: {'s.release': '1.1.0-RC'}\u001b[39;00m\n\u001b[1;32m   <a href='file:///Users/ankush/Documents/personal/constant_learner/mlops/mlops-zoomcamp/venv_mlops/lib/python3.9/site-packages/mlflow/tracking/client.py?line=1608'>1609</a>\u001b[0m \u001b[39m    \"\"\"\u001b[39;00m\n\u001b[0;32m-> <a href='file:///Users/ankush/Documents/personal/constant_learner/mlops/mlops-zoomcamp/venv_mlops/lib/python3.9/site-packages/mlflow/tracking/client.py?line=1609'>1610</a>\u001b[0m     \u001b[39mreturn\u001b[39;00m \u001b[39mself\u001b[39;49m\u001b[39m.\u001b[39;49m_tracking_client\u001b[39m.\u001b[39;49msearch_runs(\n\u001b[1;32m   <a href='file:///Users/ankush/Documents/personal/constant_learner/mlops/mlops-zoomcamp/venv_mlops/lib/python3.9/site-packages/mlflow/tracking/client.py?line=1610'>1611</a>\u001b[0m         experiment_ids, filter_string, run_view_type, max_results, order_by, page_token\n\u001b[1;32m   <a href='file:///Users/ankush/Documents/personal/constant_learner/mlops/mlops-zoomcamp/venv_mlops/lib/python3.9/site-packages/mlflow/tracking/client.py?line=1611'>1612</a>\u001b[0m     )\n",
      "File \u001b[0;32m~/Documents/personal/constant_learner/mlops/mlops-zoomcamp/venv_mlops/lib/python3.9/site-packages/mlflow/tracking/_tracking_service/client.py:429\u001b[0m, in \u001b[0;36mTrackingServiceClient.search_runs\u001b[0;34m(self, experiment_ids, filter_string, run_view_type, max_results, order_by, page_token)\u001b[0m\n\u001b[1;32m    <a href='file:///Users/ankush/Documents/personal/constant_learner/mlops/mlops-zoomcamp/venv_mlops/lib/python3.9/site-packages/mlflow/tracking/_tracking_service/client.py?line=426'>427</a>\u001b[0m \u001b[39mif\u001b[39;00m \u001b[39misinstance\u001b[39m(experiment_ids, \u001b[39mint\u001b[39m) \u001b[39mor\u001b[39;00m is_string_type(experiment_ids):\n\u001b[1;32m    <a href='file:///Users/ankush/Documents/personal/constant_learner/mlops/mlops-zoomcamp/venv_mlops/lib/python3.9/site-packages/mlflow/tracking/_tracking_service/client.py?line=427'>428</a>\u001b[0m     experiment_ids \u001b[39m=\u001b[39m [experiment_ids]\n\u001b[0;32m--> <a href='file:///Users/ankush/Documents/personal/constant_learner/mlops/mlops-zoomcamp/venv_mlops/lib/python3.9/site-packages/mlflow/tracking/_tracking_service/client.py?line=428'>429</a>\u001b[0m \u001b[39mreturn\u001b[39;00m \u001b[39mself\u001b[39;49m\u001b[39m.\u001b[39;49mstore\u001b[39m.\u001b[39;49msearch_runs(\n\u001b[1;32m    <a href='file:///Users/ankush/Documents/personal/constant_learner/mlops/mlops-zoomcamp/venv_mlops/lib/python3.9/site-packages/mlflow/tracking/_tracking_service/client.py?line=429'>430</a>\u001b[0m     experiment_ids\u001b[39m=\u001b[39;49mexperiment_ids,\n\u001b[1;32m    <a href='file:///Users/ankush/Documents/personal/constant_learner/mlops/mlops-zoomcamp/venv_mlops/lib/python3.9/site-packages/mlflow/tracking/_tracking_service/client.py?line=430'>431</a>\u001b[0m     filter_string\u001b[39m=\u001b[39;49mfilter_string,\n\u001b[1;32m    <a href='file:///Users/ankush/Documents/personal/constant_learner/mlops/mlops-zoomcamp/venv_mlops/lib/python3.9/site-packages/mlflow/tracking/_tracking_service/client.py?line=431'>432</a>\u001b[0m     run_view_type\u001b[39m=\u001b[39;49mrun_view_type,\n\u001b[1;32m    <a href='file:///Users/ankush/Documents/personal/constant_learner/mlops/mlops-zoomcamp/venv_mlops/lib/python3.9/site-packages/mlflow/tracking/_tracking_service/client.py?line=432'>433</a>\u001b[0m     max_results\u001b[39m=\u001b[39;49mmax_results,\n\u001b[1;32m    <a href='file:///Users/ankush/Documents/personal/constant_learner/mlops/mlops-zoomcamp/venv_mlops/lib/python3.9/site-packages/mlflow/tracking/_tracking_service/client.py?line=433'>434</a>\u001b[0m     order_by\u001b[39m=\u001b[39;49morder_by,\n\u001b[1;32m    <a href='file:///Users/ankush/Documents/personal/constant_learner/mlops/mlops-zoomcamp/venv_mlops/lib/python3.9/site-packages/mlflow/tracking/_tracking_service/client.py?line=434'>435</a>\u001b[0m     page_token\u001b[39m=\u001b[39;49mpage_token,\n\u001b[1;32m    <a href='file:///Users/ankush/Documents/personal/constant_learner/mlops/mlops-zoomcamp/venv_mlops/lib/python3.9/site-packages/mlflow/tracking/_tracking_service/client.py?line=435'>436</a>\u001b[0m )\n",
      "File \u001b[0;32m~/Documents/personal/constant_learner/mlops/mlops-zoomcamp/venv_mlops/lib/python3.9/site-packages/mlflow/store/tracking/abstract_store.py:242\u001b[0m, in \u001b[0;36mAbstractStore.search_runs\u001b[0;34m(self, experiment_ids, filter_string, run_view_type, max_results, order_by, page_token)\u001b[0m\n\u001b[1;32m    <a href='file:///Users/ankush/Documents/personal/constant_learner/mlops/mlops-zoomcamp/venv_mlops/lib/python3.9/site-packages/mlflow/store/tracking/abstract_store.py?line=214'>215</a>\u001b[0m \u001b[39mdef\u001b[39;00m \u001b[39msearch_runs\u001b[39m(\n\u001b[1;32m    <a href='file:///Users/ankush/Documents/personal/constant_learner/mlops/mlops-zoomcamp/venv_mlops/lib/python3.9/site-packages/mlflow/store/tracking/abstract_store.py?line=215'>216</a>\u001b[0m     \u001b[39mself\u001b[39m,\n\u001b[1;32m    <a href='file:///Users/ankush/Documents/personal/constant_learner/mlops/mlops-zoomcamp/venv_mlops/lib/python3.9/site-packages/mlflow/store/tracking/abstract_store.py?line=216'>217</a>\u001b[0m     experiment_ids,\n\u001b[0;32m   (...)\u001b[0m\n\u001b[1;32m    <a href='file:///Users/ankush/Documents/personal/constant_learner/mlops/mlops-zoomcamp/venv_mlops/lib/python3.9/site-packages/mlflow/store/tracking/abstract_store.py?line=221'>222</a>\u001b[0m     page_token\u001b[39m=\u001b[39m\u001b[39mNone\u001b[39;00m,\n\u001b[1;32m    <a href='file:///Users/ankush/Documents/personal/constant_learner/mlops/mlops-zoomcamp/venv_mlops/lib/python3.9/site-packages/mlflow/store/tracking/abstract_store.py?line=222'>223</a>\u001b[0m ):\n\u001b[1;32m    <a href='file:///Users/ankush/Documents/personal/constant_learner/mlops/mlops-zoomcamp/venv_mlops/lib/python3.9/site-packages/mlflow/store/tracking/abstract_store.py?line=223'>224</a>\u001b[0m     \u001b[39m\"\"\"\u001b[39;00m\n\u001b[1;32m    <a href='file:///Users/ankush/Documents/personal/constant_learner/mlops/mlops-zoomcamp/venv_mlops/lib/python3.9/site-packages/mlflow/store/tracking/abstract_store.py?line=224'>225</a>\u001b[0m \u001b[39m    Return runs that match the given list of search expressions within the experiments.\u001b[39;00m\n\u001b[1;32m    <a href='file:///Users/ankush/Documents/personal/constant_learner/mlops/mlops-zoomcamp/venv_mlops/lib/python3.9/site-packages/mlflow/store/tracking/abstract_store.py?line=225'>226</a>\u001b[0m \n\u001b[0;32m   (...)\u001b[0m\n\u001b[1;32m    <a href='file:///Users/ankush/Documents/personal/constant_learner/mlops/mlops-zoomcamp/venv_mlops/lib/python3.9/site-packages/mlflow/store/tracking/abstract_store.py?line=239'>240</a>\u001b[0m \u001b[39m        meaningful in such cases.\u001b[39;00m\n\u001b[1;32m    <a href='file:///Users/ankush/Documents/personal/constant_learner/mlops/mlops-zoomcamp/venv_mlops/lib/python3.9/site-packages/mlflow/store/tracking/abstract_store.py?line=240'>241</a>\u001b[0m \u001b[39m    \"\"\"\u001b[39;00m\n\u001b[0;32m--> <a href='file:///Users/ankush/Documents/personal/constant_learner/mlops/mlops-zoomcamp/venv_mlops/lib/python3.9/site-packages/mlflow/store/tracking/abstract_store.py?line=241'>242</a>\u001b[0m     runs, token \u001b[39m=\u001b[39m \u001b[39mself\u001b[39;49m\u001b[39m.\u001b[39;49m_search_runs(\n\u001b[1;32m    <a href='file:///Users/ankush/Documents/personal/constant_learner/mlops/mlops-zoomcamp/venv_mlops/lib/python3.9/site-packages/mlflow/store/tracking/abstract_store.py?line=242'>243</a>\u001b[0m         experiment_ids, filter_string, run_view_type, max_results, order_by, page_token\n\u001b[1;32m    <a href='file:///Users/ankush/Documents/personal/constant_learner/mlops/mlops-zoomcamp/venv_mlops/lib/python3.9/site-packages/mlflow/store/tracking/abstract_store.py?line=243'>244</a>\u001b[0m     )\n\u001b[1;32m    <a href='file:///Users/ankush/Documents/personal/constant_learner/mlops/mlops-zoomcamp/venv_mlops/lib/python3.9/site-packages/mlflow/store/tracking/abstract_store.py?line=244'>245</a>\u001b[0m     \u001b[39mreturn\u001b[39;00m PagedList(runs, token)\n",
      "File \u001b[0;32m~/Documents/personal/constant_learner/mlops/mlops-zoomcamp/venv_mlops/lib/python3.9/site-packages/mlflow/store/tracking/rest_store.py:266\u001b[0m, in \u001b[0;36mRestStore._search_runs\u001b[0;34m(self, experiment_ids, filter_string, run_view_type, max_results, order_by, page_token)\u001b[0m\n\u001b[1;32m    <a href='file:///Users/ankush/Documents/personal/constant_learner/mlops/mlops-zoomcamp/venv_mlops/lib/python3.9/site-packages/mlflow/store/tracking/rest_store.py?line=256'>257</a>\u001b[0m sr \u001b[39m=\u001b[39m SearchRuns(\n\u001b[1;32m    <a href='file:///Users/ankush/Documents/personal/constant_learner/mlops/mlops-zoomcamp/venv_mlops/lib/python3.9/site-packages/mlflow/store/tracking/rest_store.py?line=257'>258</a>\u001b[0m     experiment_ids\u001b[39m=\u001b[39mexperiment_ids,\n\u001b[1;32m    <a href='file:///Users/ankush/Documents/personal/constant_learner/mlops/mlops-zoomcamp/venv_mlops/lib/python3.9/site-packages/mlflow/store/tracking/rest_store.py?line=258'>259</a>\u001b[0m     \u001b[39mfilter\u001b[39m\u001b[39m=\u001b[39mfilter_string,\n\u001b[0;32m   (...)\u001b[0m\n\u001b[1;32m    <a href='file:///Users/ankush/Documents/personal/constant_learner/mlops/mlops-zoomcamp/venv_mlops/lib/python3.9/site-packages/mlflow/store/tracking/rest_store.py?line=262'>263</a>\u001b[0m     page_token\u001b[39m=\u001b[39mpage_token,\n\u001b[1;32m    <a href='file:///Users/ankush/Documents/personal/constant_learner/mlops/mlops-zoomcamp/venv_mlops/lib/python3.9/site-packages/mlflow/store/tracking/rest_store.py?line=263'>264</a>\u001b[0m )\n\u001b[1;32m    <a href='file:///Users/ankush/Documents/personal/constant_learner/mlops/mlops-zoomcamp/venv_mlops/lib/python3.9/site-packages/mlflow/store/tracking/rest_store.py?line=264'>265</a>\u001b[0m req_body \u001b[39m=\u001b[39m message_to_json(sr)\n\u001b[0;32m--> <a href='file:///Users/ankush/Documents/personal/constant_learner/mlops/mlops-zoomcamp/venv_mlops/lib/python3.9/site-packages/mlflow/store/tracking/rest_store.py?line=265'>266</a>\u001b[0m response_proto \u001b[39m=\u001b[39m \u001b[39mself\u001b[39;49m\u001b[39m.\u001b[39;49m_call_endpoint(SearchRuns, req_body)\n\u001b[1;32m    <a href='file:///Users/ankush/Documents/personal/constant_learner/mlops/mlops-zoomcamp/venv_mlops/lib/python3.9/site-packages/mlflow/store/tracking/rest_store.py?line=266'>267</a>\u001b[0m runs \u001b[39m=\u001b[39m [Run\u001b[39m.\u001b[39mfrom_proto(proto_run) \u001b[39mfor\u001b[39;00m proto_run \u001b[39min\u001b[39;00m response_proto\u001b[39m.\u001b[39mruns]\n\u001b[1;32m    <a href='file:///Users/ankush/Documents/personal/constant_learner/mlops/mlops-zoomcamp/venv_mlops/lib/python3.9/site-packages/mlflow/store/tracking/rest_store.py?line=267'>268</a>\u001b[0m \u001b[39m# If next_page_token is not set, we will see it as \"\". We need to convert this to None.\u001b[39;00m\n",
      "File \u001b[0;32m~/Documents/personal/constant_learner/mlops/mlops-zoomcamp/venv_mlops/lib/python3.9/site-packages/mlflow/store/tracking/rest_store.py:56\u001b[0m, in \u001b[0;36mRestStore._call_endpoint\u001b[0;34m(self, api, json_body)\u001b[0m\n\u001b[1;32m     <a href='file:///Users/ankush/Documents/personal/constant_learner/mlops/mlops-zoomcamp/venv_mlops/lib/python3.9/site-packages/mlflow/store/tracking/rest_store.py?line=53'>54</a>\u001b[0m endpoint, method \u001b[39m=\u001b[39m _METHOD_TO_INFO[api]\n\u001b[1;32m     <a href='file:///Users/ankush/Documents/personal/constant_learner/mlops/mlops-zoomcamp/venv_mlops/lib/python3.9/site-packages/mlflow/store/tracking/rest_store.py?line=54'>55</a>\u001b[0m response_proto \u001b[39m=\u001b[39m api\u001b[39m.\u001b[39mResponse()\n\u001b[0;32m---> <a href='file:///Users/ankush/Documents/personal/constant_learner/mlops/mlops-zoomcamp/venv_mlops/lib/python3.9/site-packages/mlflow/store/tracking/rest_store.py?line=55'>56</a>\u001b[0m \u001b[39mreturn\u001b[39;00m call_endpoint(\u001b[39mself\u001b[39;49m\u001b[39m.\u001b[39;49mget_host_creds(), endpoint, method, json_body, response_proto)\n",
      "File \u001b[0;32m~/Documents/personal/constant_learner/mlops/mlops-zoomcamp/venv_mlops/lib/python3.9/site-packages/mlflow/utils/rest_utils.py:256\u001b[0m, in \u001b[0;36mcall_endpoint\u001b[0;34m(host_creds, endpoint, method, json_body, response_proto)\u001b[0m\n\u001b[1;32m    <a href='file:///Users/ankush/Documents/personal/constant_learner/mlops/mlops-zoomcamp/venv_mlops/lib/python3.9/site-packages/mlflow/utils/rest_utils.py?line=251'>252</a>\u001b[0m \u001b[39melse\u001b[39;00m:\n\u001b[1;32m    <a href='file:///Users/ankush/Documents/personal/constant_learner/mlops/mlops-zoomcamp/venv_mlops/lib/python3.9/site-packages/mlflow/utils/rest_utils.py?line=252'>253</a>\u001b[0m     response \u001b[39m=\u001b[39m http_request(\n\u001b[1;32m    <a href='file:///Users/ankush/Documents/personal/constant_learner/mlops/mlops-zoomcamp/venv_mlops/lib/python3.9/site-packages/mlflow/utils/rest_utils.py?line=253'>254</a>\u001b[0m         host_creds\u001b[39m=\u001b[39mhost_creds, endpoint\u001b[39m=\u001b[39mendpoint, method\u001b[39m=\u001b[39mmethod, json\u001b[39m=\u001b[39mjson_body\n\u001b[1;32m    <a href='file:///Users/ankush/Documents/personal/constant_learner/mlops/mlops-zoomcamp/venv_mlops/lib/python3.9/site-packages/mlflow/utils/rest_utils.py?line=254'>255</a>\u001b[0m     )\n\u001b[0;32m--> <a href='file:///Users/ankush/Documents/personal/constant_learner/mlops/mlops-zoomcamp/venv_mlops/lib/python3.9/site-packages/mlflow/utils/rest_utils.py?line=255'>256</a>\u001b[0m response \u001b[39m=\u001b[39m verify_rest_response(response, endpoint)\n\u001b[1;32m    <a href='file:///Users/ankush/Documents/personal/constant_learner/mlops/mlops-zoomcamp/venv_mlops/lib/python3.9/site-packages/mlflow/utils/rest_utils.py?line=256'>257</a>\u001b[0m js_dict \u001b[39m=\u001b[39m json\u001b[39m.\u001b[39mloads(response\u001b[39m.\u001b[39mtext)\n\u001b[1;32m    <a href='file:///Users/ankush/Documents/personal/constant_learner/mlops/mlops-zoomcamp/venv_mlops/lib/python3.9/site-packages/mlflow/utils/rest_utils.py?line=257'>258</a>\u001b[0m parse_dict(js_dict\u001b[39m=\u001b[39mjs_dict, message\u001b[39m=\u001b[39mresponse_proto)\n",
      "File \u001b[0;32m~/Documents/personal/constant_learner/mlops/mlops-zoomcamp/venv_mlops/lib/python3.9/site-packages/mlflow/utils/rest_utils.py:185\u001b[0m, in \u001b[0;36mverify_rest_response\u001b[0;34m(response, endpoint)\u001b[0m\n\u001b[1;32m    <a href='file:///Users/ankush/Documents/personal/constant_learner/mlops/mlops-zoomcamp/venv_mlops/lib/python3.9/site-packages/mlflow/utils/rest_utils.py?line=182'>183</a>\u001b[0m \u001b[39mif\u001b[39;00m response\u001b[39m.\u001b[39mstatus_code \u001b[39m!=\u001b[39m \u001b[39m200\u001b[39m:\n\u001b[1;32m    <a href='file:///Users/ankush/Documents/personal/constant_learner/mlops/mlops-zoomcamp/venv_mlops/lib/python3.9/site-packages/mlflow/utils/rest_utils.py?line=183'>184</a>\u001b[0m     \u001b[39mif\u001b[39;00m _can_parse_as_json_object(response\u001b[39m.\u001b[39mtext):\n\u001b[0;32m--> <a href='file:///Users/ankush/Documents/personal/constant_learner/mlops/mlops-zoomcamp/venv_mlops/lib/python3.9/site-packages/mlflow/utils/rest_utils.py?line=184'>185</a>\u001b[0m         \u001b[39mraise\u001b[39;00m RestException(json\u001b[39m.\u001b[39mloads(response\u001b[39m.\u001b[39mtext))\n\u001b[1;32m    <a href='file:///Users/ankush/Documents/personal/constant_learner/mlops/mlops-zoomcamp/venv_mlops/lib/python3.9/site-packages/mlflow/utils/rest_utils.py?line=185'>186</a>\u001b[0m     \u001b[39melse\u001b[39;00m:\n\u001b[1;32m    <a href='file:///Users/ankush/Documents/personal/constant_learner/mlops/mlops-zoomcamp/venv_mlops/lib/python3.9/site-packages/mlflow/utils/rest_utils.py?line=186'>187</a>\u001b[0m         base_msg \u001b[39m=\u001b[39m \u001b[39m\"\u001b[39m\u001b[39mAPI request to endpoint \u001b[39m\u001b[39m%s\u001b[39;00m\u001b[39m failed with error code \u001b[39m\u001b[39m%s\u001b[39;00m\u001b[39m != 200\u001b[39m\u001b[39m\"\u001b[39m \u001b[39m%\u001b[39m (\n\u001b[1;32m    <a href='file:///Users/ankush/Documents/personal/constant_learner/mlops/mlops-zoomcamp/venv_mlops/lib/python3.9/site-packages/mlflow/utils/rest_utils.py?line=187'>188</a>\u001b[0m             endpoint,\n\u001b[1;32m    <a href='file:///Users/ankush/Documents/personal/constant_learner/mlops/mlops-zoomcamp/venv_mlops/lib/python3.9/site-packages/mlflow/utils/rest_utils.py?line=188'>189</a>\u001b[0m             response\u001b[39m.\u001b[39mstatus_code,\n\u001b[1;32m    <a href='file:///Users/ankush/Documents/personal/constant_learner/mlops/mlops-zoomcamp/venv_mlops/lib/python3.9/site-packages/mlflow/utils/rest_utils.py?line=189'>190</a>\u001b[0m         )\n",
      "\u001b[0;31mRestException\u001b[0m: INVALID_PARAMETER_VALUE: Invalid identifier 'M'. Columns should be specified as 'attribute.<key>', 'metric.<key>', 'tag.<key>', or 'param.'."
     ]
    }
   ],
   "source": [
    "client.search_runs(experiment_ids=[3], order_by='Metrics.test_rmse ASC')"
   ]
  },
  {
   "cell_type": "code",
   "execution_count": null,
>>>>>>> 135182f129bb6a8c858cb40b075356c9bc5bc8e9
   "metadata": {},
   "outputs": [
    {
     "data": {
      "text/plain": [
       "'63f06a50a91f4d7b8ed7587e9dde74c0'"
      ]
     },
     "execution_count": 36,
     "metadata": {},
     "output_type": "execute_result"
    }
   ],
   "source": [
<<<<<<< HEAD
    "client.search_runs(experiment_ids=[3], order_by=['metric.test_rmse ASC'])[0]._info.run_id"
   ]
  },
  {
   "cell_type": "code",
   "execution_count": 33,
   "metadata": {},
   "outputs": [
    {
     "name": "stderr",
     "output_type": "stream",
     "text": [
      "Successfully registered model 'iris-classifier'.\n",
      "2022/05/28 09:37:15 INFO mlflow.tracking._model_registry.client: Waiting up to 300 seconds for model version to finish creation.                     Model name: iris-classifier, version 1\n",
      "Created version '1' of model 'iris-classifier'.\n"
     ]
    },
    {
     "data": {
      "text/plain": [
       "<ModelVersion: creation_timestamp=1653723435365, current_stage='None', description='', last_updated_timestamp=1653723435365, name='iris-classifier', run_id='4fc7363d640546319d5fa37ca6e0e985', run_link='', source='artifact/3/4fc7363d640546319d5fa37ca6e0e985/artifacts/models', status='READY', status_message='', tags={}, user_id='', version='1'>"
      ]
     },
     "execution_count": 33,
     "metadata": {},
     "output_type": "execute_result"
    }
   ],
   "source": [
=======
>>>>>>> 135182f129bb6a8c858cb40b075356c9bc5bc8e9
    "run_id = client.list_run_infos(experiment_id='3')[0].run_id\n",
    "mlflow.register_model(\n",
    "    model_uri=f\"runs:/{run_id}/models\",\n",
    "    name='iris-classifier'\n",
    ")"
   ]
  },
  {
   "cell_type": "code",
   "execution_count": 34,
   "metadata": {},
   "outputs": [
    {
     "data": {
      "text/plain": [
       "<RunInfo: artifact_uri='artifact/3/4fc7363d640546319d5fa37ca6e0e985/artifacts', end_time=1653722816100, experiment_id='3', lifecycle_stage='active', run_id='4fc7363d640546319d5fa37ca6e0e985', run_uuid='4fc7363d640546319d5fa37ca6e0e985', start_time=1653722809048, status='FINISHED', user_id='ankush'>"
      ]
     },
     "execution_count": 34,
     "metadata": {},
     "output_type": "execute_result"
    }
   ],
   "source": [
    "client.list_run_infos(experiment_id='3')[0]"
   ]
  },
  {
   "cell_type": "code",
   "execution_count": null,
   "metadata": {},
   "outputs": [],
   "source": []
  }
 ],
 "metadata": {
  "interpreter": {
   "hash": "d7a3eb6406bd1418f455373bfa2c64fbe5f3b41693394d75b7fa316e40551180"
  },
  "kernelspec": {
   "display_name": "Python 3.9.12 ('venv_mlops': venv)",
   "language": "python",
   "name": "python3"
  },
  "language_info": {
   "codemirror_mode": {
    "name": "ipython",
    "version": 3
   },
   "file_extension": ".py",
   "mimetype": "text/x-python",
   "name": "python",
   "nbconvert_exporter": "python",
   "pygments_lexer": "ipython3",
   "version": "3.9.12"
  },
  "orig_nbformat": 4
 },
 "nbformat": 4,
 "nbformat_minor": 2
}
